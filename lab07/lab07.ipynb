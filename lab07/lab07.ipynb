{
 "cells": [
  {
   "cell_type": "code",
   "execution_count": 1,
   "metadata": {},
   "outputs": [
    {
     "data": {
      "text/plain": [
       "'Вариант: 54'"
      ]
     },
     "execution_count": 1,
     "metadata": {},
     "output_type": "execute_result"
    }
   ],
   "source": [
    "STUD = 1032182533\n",
    "def variant(stud):\n",
    "    return f'Вариант: {stud%70+1}'\n",
    "variant(STUD)"
   ]
  },
  {
   "cell_type": "markdown",
   "metadata": {},
   "source": [
    "Постройте график распространения рекламы, математическая модель которой описывается следующим уравнением:\n",
    "\n",
    "1. $\\frac{\\partial n}{\\partial t} = (0.64 + 0.00004n(t))(N - n(t))$\n",
    "2. $\\frac{\\partial n}{\\partial t} = (0.00007 + 0.7n(t))(N - n(t))$\n",
    "3. $\\frac{\\partial n}{\\partial t} = (0.4 + 0.3sin(2t)n(t))(N - n(t))$\n",
    "\n",
    "При этом объем аудитории $N$ = 1403, в начальный момент о товаре знает 9 человек.\n",
    "Для случая 2 определите в какой момент времени скорость распространения рекламы будет иметь максимальное значение."
   ]
  },
  {
   "cell_type": "markdown",
   "metadata": {},
   "source": [
    "# Код"
   ]
  },
  {
   "cell_type": "code",
   "execution_count": 2,
   "metadata": {},
   "outputs": [],
   "source": [
    "import math\n",
    "import numpy as np\n",
    "from scipy.integrate import odeint\n",
    "import matplotlib.pyplot as plt"
   ]
  },
  {
   "cell_type": "code",
   "execution_count": 3,
   "metadata": {},
   "outputs": [],
   "source": [
    "x0 = 9 # количество людей, знающих о товаре в начальный момент времени"
   ]
  },
  {
   "cell_type": "code",
   "execution_count": 4,
   "metadata": {},
   "outputs": [],
   "source": [
    "N = 1403 # максимальное количество людей, которых может заинтересовать товар"
   ]
  },
  {
   "cell_type": "code",
   "execution_count": 5,
   "metadata": {},
   "outputs": [],
   "source": [
    "t = np.arange(0, 10, 0.01) # временной промежуток (длительность рекламной компании)"
   ]
  },
  {
   "cell_type": "code",
   "execution_count": 6,
   "metadata": {},
   "outputs": [],
   "source": [
    "# функция, отвечающая за платную рекламу\n",
    "def k1():\n",
    "    g = 0.64\n",
    "    return g\n",
    "\n",
    "def k2():\n",
    "    g = 0.00007\n",
    "    return g\n",
    "\n",
    "def k3(t):\n",
    "    g = 0.4*t\n",
    "    return g\n"
   ]
  },
  {
   "cell_type": "code",
   "execution_count": 7,
   "metadata": {},
   "outputs": [],
   "source": [
    "# функция, описывающая сарафанное радио\n",
    "def p1():\n",
    "    v = 0.00004\n",
    "    return v\n",
    "\n",
    "def p2():\n",
    "    v = 0.7\n",
    "    return v\n",
    "\n",
    "def p3(t):\n",
    "    v = 0.3*np.sin(2*t)\n",
    "    return v\n"
   ]
  },
  {
   "cell_type": "code",
   "execution_count": 8,
   "metadata": {},
   "outputs": [],
   "source": [
    "# уравнение, описывающее распространение рекламы\n",
    "\n",
    "def f1(x, t):\n",
    "    xd1 = ( k1() + p1()*x )*( N - x )\n",
    "    return xd1\n",
    "\n",
    "def f2(x, t):\n",
    "    xd2 = ( k2() + p2()*x )*( N - x )\n",
    "    return xd2\n",
    "\n",
    "def f3(x, t):\n",
    "    xd3 = ( k3(t) + p3(t)*x )*( N - x )\n",
    "    return xd3\n"
   ]
  },
  {
   "cell_type": "code",
   "execution_count": 9,
   "metadata": {},
   "outputs": [],
   "source": [
    "# решение ОДУ\n",
    "x1 = odeint(f1, x0, t)\n",
    "x2 = odeint(f2, x0, t)\n",
    "x3 = odeint(f3, x0, t)"
   ]
  },
  {
   "cell_type": "code",
   "execution_count": 19,
   "metadata": {},
   "outputs": [
    {
     "data": {
      "text/plain": [
       "0.01"
      ]
     },
     "execution_count": 19,
     "metadata": {},
     "output_type": "execute_result"
    }
   ],
   "source": [
    "# Момент, при котором скорость распространения рекламы будет иметь максимальное значение \n",
    "t[np.argmax(x2[1:].reshape(1,999)/t[1:]) + 1]"
   ]
  },
  {
   "cell_type": "markdown",
   "metadata": {},
   "source": [
    "### $$ \\alpha_1(t) > \\alpha_2(t) $$"
   ]
  },
  {
   "cell_type": "code",
   "execution_count": 10,
   "metadata": {},
   "outputs": [
    {
     "data": {
      "text/plain": [
       "[<matplotlib.lines.Line2D at 0x2d385d16040>]"
      ]
     },
     "execution_count": 10,
     "metadata": {},
     "output_type": "execute_result"
    },
    {
     "data": {
      "image/png": "[encoded data removed]",
      "text/plain": [
       "<Figure size 432x288 with 1 Axes>"
      ]
     },
     "metadata": {
      "needs_background": "light"
     },
     "output_type": "display_data"
    }
   ],
   "source": [
    "plt.plot(t, x1) # случай 1"
   ]
  },
  {
   "cell_type": "markdown",
   "metadata": {},
   "source": [
    "### $$ \\alpha_1(t) < \\alpha_2(t) $$"
   ]
  },
  {
   "cell_type": "code",
   "execution_count": 11,
   "metadata": {},
   "outputs": [
    {
     "data": {
      "text/plain": [
       "[<matplotlib.lines.Line2D at 0x2d385decfd0>]"
      ]
     },
     "execution_count": 11,
     "metadata": {},
     "output_type": "execute_result"
    },
    {
     "data": {
      "image/png": "[encoded data removed]",
      "text/plain": [
       "<Figure size 432x288 with 1 Axes>"
      ]
     },
     "metadata": {
      "needs_background": "light"
     },
     "output_type": "display_data"
    }
   ],
   "source": [
    "plt.plot(t, x2) # случай 2"
   ]
  },
  {
   "cell_type": "code",
   "execution_count": 12,
   "metadata": {},
   "outputs": [
    {
     "data": {
      "text/plain": [
       "[<matplotlib.lines.Line2D at 0x2d385e56b80>]"
      ]
     },
     "execution_count": 12,
     "metadata": {},
     "output_type": "execute_result"
    },
    {
     "data": {
      "image/png": "[encoded data removed]",
      "text/plain": [
       "<Figure size 432x288 with 1 Axes>"
      ]
     },
     "metadata": {
      "needs_background": "light"
     },
     "output_type": "display_data"
    }
   ],
   "source": [
    "plt.plot(t, x3) # случай 3"
   ]
  },
  {
   "cell_type": "code",
   "execution_count": 13,
   "metadata": {},
   "outputs": [
    {
     "data": {
      "text/plain": [
       "<matplotlib.legend.Legend at 0x2d385e65130>"
      ]
     },
     "execution_count": 13,
     "metadata": {},
     "output_type": "execute_result"
    },
    {
     "data": {
      "image/png": "[encoded data removed]",
      "text/plain": [
       "<Figure size 432x288 with 1 Axes>"
      ]
     },
     "metadata": {
      "needs_background": "light"
     },
     "output_type": "display_data"
    }
   ],
   "source": [
    "plt.plot(t, x1, label='случай 1') # случай 1\n",
    "plt.plot(t, x2, label='случай 2') # случай 2\n",
    "plt.plot(t, x3, label='случай 3') # случай 3\n",
    "plt.legend()"
   ]
  },
  {
   "cell_type": "markdown",
   "metadata": {},
   "source": [
    "# Вопросы"
   ]
  },
  {
   "cell_type": "markdown",
   "metadata": {},
   "source": [
    "### 1. Записать модель Мальтуса (дать пояснение, где используется данная модель)\n",
    "\n",
    "Демографическая модель  \n",
    "Скорость роста пропорциональна текущему размеру популяции\n",
    "$$ \\frac{\\partial x}{\\partial t} = {\\alpha}x $$\n",
    "\n",
    "где $x$ — исходная численность населения, ${\\alpha}$ — некоторый параметр, определяемый разностью между рождаемостью и смертностью. $t$ — время.\n",
    "\n",
    "### 2. Записать уравнение логистической кривой (дать пояснение, что описывает данное уравнение)\n",
    "\n",
    "$$ \\frac{\\partial x}{\\partial t} = {\\alpha}(1 - \\frac{x}{x_s})x $$\n",
    "\n",
    "где ${x_s}$ - «равновесный» размер популяции, при котором рождаемость в точности компенсируется смертностью. Размер популяции в такой модели стремится к равновесному значению ${x_s}$, причем такое поведение структурно устойчиво.  \n",
    "Данное уравнение описывает рождаемость и смертность с учетом роста численности.\n",
    "\n",
    "### 3. На что влияет коэффициент $\\alpha_1(t)$ и $\\alpha_2(t)$ в модели распространения рекламы\n",
    "\n",
    "$\\alpha_1(t)$ — интенсивность рекламной кампании, зависящая от затрат\n",
    "\n",
    "$\\alpha_2(t)$ — интенсивность рекламной кампании, зависящая от сарафанного радио.\n",
    "\n",
    "### 4. Как ведет себя рассматриваемая модель при $\\alpha_1(t) \\gg \\alpha_2(t)$\n",
    "\n",
    "При $\\alpha_1(t) \\gg \\alpha_2(t)$ получается модель типа модели Мальтуса.\n",
    "\n",
    "$$ \\frac{\\partial x}{\\partial t} = {\\alpha}x $$\n",
    "\n",
    "\n",
    "### 5. Как ведет себя рассматриваемая модель при $\\alpha_1(t) \\ll \\alpha_2(t)$\n",
    "\n",
    "При $\\alpha_1(t) \\ll \\alpha_2(t)$ получаем уравнение логистической кривой:\n",
    "\n",
    "$$ \\frac{\\partial x}{\\partial t} = {\\alpha}(1 - \\frac{x}{x_s})x $$"
   ]
  },
  {
   "cell_type": "code",
   "execution_count": null,
   "metadata": {},
   "outputs": [],
   "source": []
  }
 ],
 "metadata": {
  "kernelspec": {
   "display_name": "Python 3",
   "language": "python",
   "name": "python3"
  },
  "language_info": {
   "codemirror_mode": {
    "name": "ipython",
    "version": 3
   },
   "file_extension": ".py",
   "mimetype": "text/x-python",
   "name": "python",
   "nbconvert_exporter": "python",
   "pygments_lexer": "ipython3",
   "version": "3.8.5"
  }
 },
 "nbformat": 4,
 "nbformat_minor": 4
}
