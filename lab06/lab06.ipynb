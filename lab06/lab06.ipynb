{
 "cells": [
  {
   "cell_type": "markdown",
   "metadata": {},
   "source": [
    "# Теория"
   ]
  },
  {
   "cell_type": "markdown",
   "metadata": {},
   "source": [
    "Предположим, что некая популяция, состоящая из N особей, (считаем, что популяция изолирована) подразделяется на три группы. Первая группа - $S(t)$ — восприимчивые к болезни, но пока здоровые особи. Вторая - $I(t)$ — это число инфицированных особей, которые также при этом являются распространителями инфекции. И третья - $R(t)$ — это здоровые особи с иммунитетом к болезни. \n",
    "\n",
    "До того, как число заболевших не превышает критического значения $I^*$ считаем, что все больные изолированы и не заражают здоровых. Когда $I(t)>I^*$, тогда инфицирование способны заражать восприимчивых к болезни особей.\n",
    "\n",
    "Таким образом, скорость изменения числа S(t) меняется по следующему закону:\n",
    "\n",
    "$$ \\frac{\\partial S}{\\partial t} = \\begin{cases} - \\alpha S, если I(t)>I^* \\\\ 0, если I(t) \\leq I^* \\end{cases}$$\n",
    "\n",
    "Поскольку каждая восприимчивая к болезни особь, которая, в конце концов, заболевает, сама становится инфекционной, то скорость изменения числа инфекционных особей представляет разность за единицу времени между заразившимися и теми, кто уже болеет и лечится, т.е.:\n",
    "\n",
    "$$ \\frac{\\partial I}{\\partial t} = \\begin{cases} - \\alpha S - \\beta I, если I(t)>I^* \\\\ - \\beta I, если I(t) \\leq I^* \\end{cases}$$\n",
    "\n",
    "А скорость изменения выздоравливающих особей (при этом приобретающие иммунитет к болезни)\n",
    "\n",
    "$$ \\frac{\\partial R}{\\partial t} = \\beta I$$\n",
    "\n",
    "Постоянные пропорциональности $\\alpha$ и $\\beta$ — коэффициент заболеваемости и коэффициент выздоровления соответственно.\n",
    "\n",
    "Для анализа картины протекания эпидемии необходимо рассмотреть два случая: $ I(0) \\leq I^* $ и $ I(0) > I^* $"
   ]
  },
  {
   "cell_type": "code",
   "execution_count": 1,
   "metadata": {},
   "outputs": [
    {
     "name": "stdout",
     "output_type": "stream",
     "text": [
      "54\n"
     ]
    }
   ],
   "source": [
    "STUD = 1032182533\n",
    "def variant(stud):\n",
    "    print(stud%70 + 1)\n",
    "variant(STUD)"
   ]
  },
  {
   "cell_type": "markdown",
   "metadata": {},
   "source": [
    "На одном острове вспыхнула эпидемия. Известно, что из всех проживающих на острове $(N=8439)$ в момент начала эпидемии $(t=0)$ число заболевших людей\n",
    "(являющихся распространителями инфекции) $I(0)=86$, А число здоровых людей с\n",
    "иммунитетом к болезни $R(0)=25$. Таким образом, число людей восприимчивых к\n",
    "болезни, но пока здоровых, в начальный момент времени $S(0)=N-I(0)- R(0)$.  \n",
    "Постройте графики изменения числа особей в каждой из трех групп.\n",
    "Рассмотрите, как будет протекать эпидемия в случае:\n",
    "1. если $ I(0) \\leq I^* $ \n",
    "2. если $ I(0) > I^* $\n",
    "\n",
    "$$ \\alpha = 0.35 $$\n",
    "$$ \\beta = 0.13 $$"
   ]
  },
  {
   "cell_type": "code",
   "execution_count": 2,
   "metadata": {},
   "outputs": [],
   "source": [
    "import math\n",
    "import numpy as np\n",
    "from scipy.integrate import odeint\n",
    "import matplotlib.pyplot as plt"
   ]
  },
  {
   "cell_type": "code",
   "execution_count": 43,
   "metadata": {},
   "outputs": [],
   "source": [
    "a = 0.5 # коэффициент заболеваемости"
   ]
  },
  {
   "cell_type": "code",
   "execution_count": 44,
   "metadata": {},
   "outputs": [],
   "source": [
    "b = 0.01 # коэффициент выздоровления"
   ]
  },
  {
   "cell_type": "code",
   "execution_count": 45,
   "metadata": {},
   "outputs": [],
   "source": [
    "N = 8439 # общая численность популяции"
   ]
  },
  {
   "cell_type": "code",
   "execution_count": 46,
   "metadata": {},
   "outputs": [],
   "source": [
    "I0 = 86 # количество инфицированных особей в начальный момент времени"
   ]
  },
  {
   "cell_type": "code",
   "execution_count": 47,
   "metadata": {},
   "outputs": [],
   "source": [
    "R0 = 25 # количество здоровых особей с иммунитетом в начальный момент времени"
   ]
  },
  {
   "cell_type": "code",
   "execution_count": 48,
   "metadata": {},
   "outputs": [
    {
     "data": {
      "text/plain": [
       "8328"
      ]
     },
     "execution_count": 48,
     "metadata": {},
     "output_type": "execute_result"
    }
   ],
   "source": [
    "S0 = N - I0 - R0 # количество восприимчивых к болезни особей в начальный момент времени\n",
    "S0"
   ]
  },
  {
   "cell_type": "markdown",
   "metadata": {},
   "source": [
    "## Случай, когда $ I(0) \\leq I^* $"
   ]
  },
  {
   "cell_type": "code",
   "execution_count": 49,
   "metadata": {},
   "outputs": [],
   "source": [
    "def syst(x, t):\n",
    "    dx0 = 0\n",
    "    dx1 = - b*x[1]\n",
    "    dx2 = b*x[1]\n",
    "    return dx0, dx1, dx2"
   ]
  },
  {
   "cell_type": "code",
   "execution_count": 50,
   "metadata": {},
   "outputs": [],
   "source": [
    "x0 = [S0, I0, R0] # начальные значения"
   ]
  },
  {
   "cell_type": "code",
   "execution_count": 59,
   "metadata": {},
   "outputs": [],
   "source": [
    "t = np.arange(0, 500, 0.01)"
   ]
  },
  {
   "cell_type": "code",
   "execution_count": 60,
   "metadata": {},
   "outputs": [],
   "source": [
    "y = odeint(syst, x0, t)"
   ]
  },
  {
   "cell_type": "markdown",
   "metadata": {},
   "source": [
    "### Построение динамики изменения числа особей в каждой из трех групп"
   ]
  },
  {
   "cell_type": "code",
   "execution_count": 61,
   "metadata": {},
   "outputs": [],
   "source": [
    "def cm_to_inch(value):\n",
    "    return value/2.54"
   ]
  },
  {
   "cell_type": "code",
   "execution_count": 62,
   "metadata": {},
   "outputs": [
    {
     "data": {
      "text/plain": [
       "<matplotlib.legend.Legend at 0x1d0cea64730>"
      ]
     },
     "execution_count": 62,
     "metadata": {},
     "output_type": "execute_result"
    },
    {
     "data": {
      "image/png": "[encoded data removed]",
      "text/plain": [
       "<Figure size 425.197x850.394 with 1 Axes>"
      ]
     },
     "metadata": {
      "needs_background": "light"
     },
     "output_type": "display_data"
    }
   ],
   "source": [
    "plt.figure(figsize=(cm_to_inch(15),cm_to_inch(30)))\n",
    "plt.plot(t, y[:,0], label='S(t)')\n",
    "plt.plot(t, y[:,1], label='I(t)')\n",
    "plt.plot(t, y[:,2], label='R(t)')\n",
    "plt.title('I(0) <= I*', fontsize=16, fontweight=1000)\n",
    "plt.legend()"
   ]
  },
  {
   "cell_type": "code",
   "execution_count": 63,
   "metadata": {},
   "outputs": [
    {
     "data": {
      "text/plain": [
       "<matplotlib.legend.Legend at 0x1d0ce9005b0>"
      ]
     },
     "execution_count": 63,
     "metadata": {},
     "output_type": "execute_result"
    },
    {
     "data": {
      "image/png": "[encoded data removed]",
      "text/plain": [
       "<Figure size 432x288 with 1 Axes>"
      ]
     },
     "metadata": {
      "needs_background": "light"
     },
     "output_type": "display_data"
    }
   ],
   "source": [
    "plt.plot(t, y[:,1], label='I(t)')\n",
    "plt.plot(t, y[:,2], label='R(t)')\n",
    "plt.title('I(0) <= I*', fontsize=16, fontweight=1000)\n",
    "plt.legend()"
   ]
  },
  {
   "cell_type": "markdown",
   "metadata": {},
   "source": [
    "## Случай, когда $ I(0) > I^*$"
   ]
  },
  {
   "cell_type": "code",
   "execution_count": 64,
   "metadata": {},
   "outputs": [],
   "source": [
    "def syst2(x, t):\n",
    "    ddx0 = -a*x[0]\n",
    "    ddx1 = a*x[0] - b*x[1]\n",
    "    ddx2 = b*x[1]\n",
    "    return ddx0, ddx1, ddx2"
   ]
  },
  {
   "cell_type": "code",
   "execution_count": 65,
   "metadata": {},
   "outputs": [],
   "source": [
    "yy = odeint(syst2, x0, t)"
   ]
  },
  {
   "cell_type": "code",
   "execution_count": 66,
   "metadata": {},
   "outputs": [
    {
     "data": {
      "text/plain": [
       "<matplotlib.legend.Legend at 0x1d0cfc2b490>"
      ]
     },
     "execution_count": 66,
     "metadata": {},
     "output_type": "execute_result"
    },
    {
     "data": {
      "image/png": "[encoded data removed]",
      "text/plain": [
       "<Figure size 432x288 with 1 Axes>"
      ]
     },
     "metadata": {
      "needs_background": "light"
     },
     "output_type": "display_data"
    }
   ],
   "source": [
    "plt.plot(t, yy[:,0], label='S(t)')\n",
    "plt.plot(t, yy[:,1], label='I(t)')\n",
    "plt.plot(t, yy[:,2], label='R(t)')\n",
    "plt.title('I(0) > I*', fontsize=16, fontweight=1000)\n",
    "plt.legend()"
   ]
  },
  {
   "cell_type": "code",
   "execution_count": null,
   "metadata": {},
   "outputs": [],
   "source": []
  },
  {
   "cell_type": "code",
   "execution_count": null,
   "metadata": {},
   "outputs": [],
   "source": []
  }
 ],
 "metadata": {
  "kernelspec": {
   "display_name": "Python 3",
   "language": "python",
   "name": "python3"
  },
  "language_info": {
   "codemirror_mode": {
    "name": "ipython",
    "version": 3
   },
   "file_extension": ".py",
   "mimetype": "text/x-python",
   "name": "python",
   "nbconvert_exporter": "python",
   "pygments_lexer": "ipython3",
   "version": "3.8.5"
  }
 },
 "nbformat": 4,
 "nbformat_minor": 4
}
